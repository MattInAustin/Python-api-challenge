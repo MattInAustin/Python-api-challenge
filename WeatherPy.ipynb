{
 "cells": [
  {
   "cell_type": "markdown",
   "metadata": {},
   "source": [
    "# WeatherPy\n",
    "----\n",
    "\n",
    "#### Note\n",
    "* Instructions have been included for each segment. You do not have to follow them exactly, but they are included to help you think through the steps."
   ]
  },
  {
   "cell_type": "code",
   "execution_count": 1,
   "metadata": {
    "scrolled": true
   },
   "outputs": [
    {
     "name": "stdout",
     "output_type": "stream",
     "text": [
      "Requirement already satisfied: citipy in c:\\programdata\\anaconda3\\lib\\site-packages (0.0.5)\n",
      "Requirement already satisfied: kdtree>=0.12 in c:\\programdata\\anaconda3\\lib\\site-packages (from citipy) (0.16)\n",
      "Everything is good to go!\n"
     ]
    }
   ],
   "source": [
    "# Dependencies and Setup\n",
    "import matplotlib.pyplot as plt\n",
    "import pandas as pd\n",
    "import numpy as np\n",
    "import requests\n",
    "import time\n",
    "from scipy.stats import linregress\n",
    "from datetime import datetime\n",
    "\n",
    "!pip install citipy\n",
    "\n",
    "# Import API key\n",
    "from api_keys import weather_api_key\n",
    "\n",
    "# Incorporated citipy to determine city based on latitude and longitude\n",
    "from citipy import citipy\n",
    "\n",
    "# Output File (CSV)\n",
    "output_data_file = \"output_data/cities.csv\"\n",
    "\n",
    "# Range of latitudes and longitudes\n",
    "lat_range = (-90, 90)\n",
    "lng_range = (-180, 180)\n",
    "print(\"Everything is good to go!\")"
   ]
  },
  {
   "cell_type": "markdown",
   "metadata": {},
   "source": [
    "## Generate Cities List"
   ]
  },
  {
   "cell_type": "code",
   "execution_count": 2,
   "metadata": {},
   "outputs": [
    {
     "name": "stdout",
     "output_type": "stream",
     "text": [
      "627\n",
      "['carnarvon', 'tuktoyaktuk', 'cape town', 'elat', 'achutupo', 'ahipara', 'lodwar', 'ushuaia', 'gwanda', 'norman wells', 'groningen', 'puerto ayora', 'kodiak', 'rikitea', 'chokurdakh', 'luderitz', 'ponta do sol', 'college', 'cap malheureux', 'iqaluit', 'saskylakh', 'mitsamiouli', 'mandera', 'yellowknife', 'barrow', 'mataura', 'albany', 'victoria', 'khatanga', 'tucuma', 'nikolskoye', 'ponta delgada', 'san miguel', 'punta arenas', 'vytegra', 'westport', 'severo-kurilsk', 'swift current', 'ancud', 'nanortalik', 'sabha', 'byron bay', 'gisors', 'bilibino', 'hermanus', 'qingyuan', 'east london', 'kuito', 'jamestown', 'pangody', 'sisimiut', 'valle de angeles', 'gizo', 'cidreira', 'navrongo', 'qaanaaq', 'belushya guba', 'port alfred', 'torbay', 'vila franca do campo', 'jalu', 'castro', 'tambul', 'pimenta bueno', 'kautokeino', 'kapaa', 'masuguru', 'yulara', 'shagonar', 'amderma', 'pevek', 'hamilton', 'quelimane', 'ouadda', 'sena madureira', 'illoqqortoormiut', 'bengkulu', 'taolanaro', 'kaeo', 'plerin', 'rypefjord', 'kaarina', 'salekhard', 'harper', 'kathu', 'provideniya', 'vaitupu', 'sokolovyy', 'busselton', 'new norfolk', 'malinta', 'buraydah', 'bernay', 'khandyga', 'hilo', 'cabo san lucas', 'san policarpo', 'jalingo', 'tra vinh', 'kawalu', 'clyde river', 'viareggio', 'attawapiskat', 'jambi', 'dicabisagan', 'balkhash', 'langsa', 'camacha', 'iquitos', 'khorramshahr', 'ostrovnoy', 'sayat', 'matay', 'puerto el triunfo', 'dzaoudzi', 'mount gambier', 'airai', 'wamba', 'mungaoli', 'nata', 'umzimvubu', 'avarua', 'matamoros', 'atuona', 'laramie', 'lianzhou', 'tura', 'saldanha', 'kulhudhuffushi', 'sur', 'saint george', 'dikson', 'ozernovskiy', 'alofi', 'bambous virieux', 'san cristobal', 'caravelas', 'kaitangata', 'tsihombe', 'kenai', 'burica', 'mandal', 'taunggyi', 'dwarka', 'makakilo city', 'mehamn', 'waingapu', 'plettenberg bay', 'carmen', 'jvari', 'lebork', 'kavieng', 'barsovo', 'kahului', 'fengrun', 'altayskoye', 'bathsheba', 'srednekolymsk', 'lebu', 'nizhneyansk', 'bredasdorp', 'longyearbyen', 'kruisfontein', 'anshan', 'bisira', 'san juan de arama', 'los llanos de aridane', 'toliary', 'esmeraldas', 'tiksi', 'aklavik', 'freeport', 'terrace', 'goma', 'inongo', 'dunedin', 'dingle', 'bluff', 'ler', 'katsuura', 'hokitika', 'columbus', 'mascote', 'teknaf', 'grand river south east', 'lompoc', 'barawe', 'ketchikan', 'itoman', 'vaini', 'wattegama', 'chumikan', 'taoudenni', 'aksu', 'alexandria', 'fortuna', 'mount isa', 'paragominas', 'san patricio', 'west bay', 'la ronge', 'metkovic', 'loding', 'leningradskiy', 'bethel', 'jiexiu', 'sao filipe', 'harlingen', 'bandarbeyla', 'eyl', 'kirakira', 'dubbo', 'saleaula', 'vanavara', 'ambilobe', 'maceio', 'sola', 'yaan', 'mahebourg', 'bud', 'port blair', 'bielsko-biala', 'souillac', 'angoche', 'bargal', 'plantation', 'mikhaylovka', 'nome', 'georgetown', 'pittsburg', 'nasrullaganj', 'olafsvik', 'chuy', 'bubaque', 'malwan', 'port elizabeth', 'boa vista', 'skagastrond', 'araouane', 'puerto quijarro', 'vernon', 'sinegorye', 'olinda', 'marsaxlokk', 'fitii', 'malartic', 'komsomolskiy', 'aberdeen', 'zheleznodorozhnyy', 'san quintin', 'atar', 'toora-khem', 'vostok', 'okitipupa', 'ossora', 'half moon bay', 'faya', 'kanye', 'parit buntar', 'klaksvik', 'qaqortoq', 'mastic beach', 'akdepe', 'hobart', 'flinders', 'niquelandia', 'motril', 'cairns', 'sitka', 'fort nelson', 'passo de camaragibe', 'shache', 'thompson', 'ribeira grande', 'vaitape', 'salalah', 'barentsburg', 'ilulissat', 'kashi', 'flateby', 'kloulklubed', 'broken hill', 'umm durman', 'geraldton', 'lubango', 'sentyabrskiy', 'butaritari', 'mahadday weyne', 'talnakh', 'mackenzie', 'linxia', 'isangel', 'palora', 'tumannyy', 'maniitsoq', 'havelock', 'tasiilaq', 'moron', 'ambalavao', 'arraial do cabo', 'hobyo', 'evensk', 'mutsamudu', 'deputatskiy', 'coron', 'semenivka', 'honningsvag', 'pindushi', 'sioux lookout', 'logrono', 'constitucion', 'paris', 'avera', 'annau', 'haridwar', 'cascais', 'upernavik', 'zhangye', 'esperance', 'kanadey', 'san jose', 'coronel oviedo', 'paka', 'takaka', 'morehead', 'sorland', 'mirnyy', 'buala', 'palu', 'hami', 'raahe', 'natchitoches', 'chipinge', 'porto novo', 'rosarito', 'syriam', 'saint-ambroise', 'naron', 'comodoro rivadavia', 'angoram', 'genhe', 'manono', 'huarmey', 'hasaki', 'beringovskiy', 'pakxe', 'yian', 'khandbari', 'tsuyama', 'wolgast', 'bambanglipuro', 'inhambane', 'heihe', 'fukuma', 'filingue', 'acoua', 'carolina', 'benghazi', 'anadyr', 'lazaro cardenas', 'crab hill', 'kalangala', 'kargasok', 'camocim', 'beloha', 'ambon', 'cherskiy', 'gat', 'zachagansk', 'tilichiki', 'amapa', 'muros', 'lar', 'samusu', 'cayenne', 'touros', 'ijaki', 'vao', 'arman', 'rzeszow', 'skjervoy', 'aneho', 'lethem', 'muqui', 'belyy', 'neyshabur', 'kintinku', 'shingu', 'morros', 'mangan', 'celestun', 'saint-philippe', 'bella vista', 'brazzaville', 'nykoping', 'nishihara', 'turbat', 'pangnirtung', 'tsiroanomandidy', 'san vicente', 'mar del plata', 'prince rupert', 'yellandu', 'kumi', 'tomatlan', 'ballina', 'spirovo', 'mayo', 'thinadhoo', 'salym', 'hambantota', 'jasper', 'kendari', 'andenes', 'maragogi', 'khudumelapye', 'vardo', 'felidhoo', 'okha', 'narbonne', 'aswan', 'slavutych', 'sydney', 'yamada', 'hithadhoo', 'mundo nuevo', 'goderich', 'sao joao da barra', 'waterloo', 'addi ugri', 'yunjinghong', 'la reforma', 'faanui', 'labuhan', 'leshukonskoye', 'hovd', 'tidore', 'koungou', 'neuquen', 'lakes entrance', 'ixtapa', 'zatoka', 'kushiro', 'ust-omchug', 'vila velha', 'nisia floresta', 'topchanchi', 'tuatapere', 'marondera', 'stephenville', 'watsa', 'smithers', 'dandong', 'boyolangu', 'zavetnoye', 'saint-joseph', 'berdigestyakh', 'karratha', 'natal', 'awjilah', 'haines junction', 'port-gentil', 'paamiut', 'port hardy', 'mae sai', 'sainte-suzanne', 'aitape', 'kasongo-lunda', 'rovaniemi', 'olden', 'daru', 'lewiston', 'evans', 'marsabit', 'richards bay', 'keflavik', 'chapais', 'robertson', 'pine bluff', 'venado', 'seymchan', 'krasnoselkup', 'camana', 'champerico', 'coffs harbour', 'ichinohe', 'mapiri', 'taksimo', 'pavlogradka', 'abaete', 'lagoa', 'kununurra', 'yenotayevka', 'worland', 'altamira', 'sangar', 'rexburg', 'sambava', 'maykor', 'laguna', 'berezniki', 'carahue', 'samarai', 'saundatti yellamma', 'krutinka', 'yanan', 'gornopravdinsk', 'huttwil', 'ust-tsilma', 'tarudant', 'marawi', 'hurricane', 'salinopolis', 'chamrajnagar', 'ucluelet', 'port-cartier', 'yumen', 'pacific grove', 'venkatagiri', 'puqi', 'borujan', 'trairi', 'mouzouras', 'luis correia', 'port macquarie', 'meyungs', 'hammerfest', 'zakamensk', 'yenisea', 'naze', 'nemuro', 'capitao poco', 'cerro de pasco', 'el rosario', 'nenjiang', 'bela vista de goias', 'shush', 'wajir', 'pyinmana', 'biak', 'sabzevar', 'rongcheng', 'palabuhanratu', 'general bravo', 'dongsheng', 'bilma', 'lima', 'bababe', 'manthani', 'fairbanks', 'saint-augustin', 'trojan', 'hongjiang', 'missoula', 'christchurch', 'karasjok', 'manggar', 'sao jose da coroa grande', 'namatanai', 'codrington', 'krasnaya gora', 'sexsmith', 'sibolga', 'lorengau', 'peterborough', 'portland', 'brufut', 'puro', 'penzance', 'uzunovo', 'honiara', 'qinhuangdao', 'jijiga', 'alotau', 'praia', 'kaberamaido', 'ouahigouya', 'tutoia', 'moissala', 'puerto ayacucho', 'san andres', 'trelleborg', 'altoona', 'assiniboia', 'petropavlovsk-kamchatskiy', 'arlit', 'shakiso', 'hauterive', 'kolda', 'sehithwa', 'yerbogachen', 'coihaique', 'saint-pierre', 'cravo norte', 'narsaq', 'juegang', 'paopao', 'mazagao', 'la rioja', 'qabis', 'batagay', 'anori', 'dromolaxia', 'grindavik', 'nelson bay', 'hatillo', 'ternate', 'saint anthony', 'kirovskiy', 'saint-francois', 'belyy yar', 'charlestown', 'solnechnyy', 'grand gaube', 'utiroa', 'baboua', 'youghal', 'artyk', 'zyryanovsk', 'kot diji', 'nara', 'dudinka', 'panjab', 'pringsewu', 'baie-saint-paul', 'abha', 'bundaberg']\n"
     ]
    }
   ],
   "source": [
    "# List for holding lat_lngs and cities\n",
    "lat_lngs = []\n",
    "cities = []\n",
    "\n",
    "# Create a set of random lat and lng combinations\n",
    "lats = np.random.uniform(low=-90.000, high=90.000, size=1500)\n",
    "lngs = np.random.uniform(low=-180.000, high=180.000, size=1500)\n",
    "lat_lngs = zip(lats, lngs)\n",
    "\n",
    "# Identify nearest city for each lat, lng combination\n",
    "for lat_lng in lat_lngs:\n",
    "    city = citipy.nearest_city(lat_lng[0], lat_lng[1]).city_name\n",
    "    \n",
    "    # If the city is unique, then add it to a our cities list\n",
    "    if city not in cities:\n",
    "        cities.append(city)\n",
    "\n",
    "# Print the city count to confirm sufficient count\n",
    "city_count = len(cities)\n",
    "print(city_count)\n",
    "print(cities)"
   ]
  },
  {
   "cell_type": "markdown",
   "metadata": {},
   "source": [
    "# Perform API Calls\n",
    "* Perform a weather check on each city using a series of successive API calls.\n",
    "* Include a print log of each city as it'sbeing processed (with the city number and city name).\n"
   ]
  },
  {
   "cell_type": "code",
   "execution_count": 3,
   "metadata": {},
   "outputs": [
    {
     "name": "stdout",
     "output_type": "stream",
     "text": [
      "{\n",
      "    \"base\": \"stations\",\n",
      "    \"clouds\": {\n",
      "        \"all\": 75\n",
      "    },\n",
      "    \"cod\": 200,\n",
      "    \"coord\": {\n",
      "        \"lat\": 30.27,\n",
      "        \"lon\": -97.74\n",
      "    },\n",
      "    \"dt\": 1592768173,\n",
      "    \"id\": 4671654,\n",
      "    \"main\": {\n",
      "        \"feels_like\": 308.98,\n",
      "        \"humidity\": 55,\n",
      "        \"pressure\": 1014,\n",
      "        \"temp\": 305.62,\n",
      "        \"temp_max\": 306.48,\n",
      "        \"temp_min\": 304.82\n",
      "    },\n",
      "    \"name\": \"Austin\",\n",
      "    \"sys\": {\n",
      "        \"country\": \"US\",\n",
      "        \"id\": 3344,\n",
      "        \"sunrise\": 1592738992,\n",
      "        \"sunset\": 1592789749,\n",
      "        \"type\": 1\n",
      "    },\n",
      "    \"timezone\": -18000,\n",
      "    \"visibility\": 16093,\n",
      "    \"weather\": [\n",
      "        {\n",
      "            \"description\": \"broken clouds\",\n",
      "            \"icon\": \"04d\",\n",
      "            \"id\": 803,\n",
      "            \"main\": \"Clouds\"\n",
      "        }\n",
      "    ],\n",
      "    \"wind\": {\n",
      "        \"deg\": 0,\n",
      "        \"speed\": 2.1\n",
      "    }\n",
      "}\n"
     ]
    }
   ],
   "source": [
    "import json\n",
    "#Create a URL\n",
    "url = \"http://api.openweathermap.org/data/2.5/weather?\"\n",
    "city = \"Austin\"\n",
    "\n",
    "#Make the query\n",
    "query_url = url + \"appid=\" +  weather_api_key + \"&q=\" + city\n",
    "\n",
    "#Make the .json\n",
    "city_json = requests.get(query_url).json()\n",
    "\n",
    "#Print .json\n",
    "print(json.dumps(city_json, indent=4, sort_keys = True))"
   ]
  },
  {
   "cell_type": "code",
   "execution_count": 4,
   "metadata": {},
   "outputs": [
    {
     "name": "stdout",
     "output_type": "stream",
     "text": [
      "Index: 0, City: carnarvon was found! Success!\n",
      "Index: 1, City: tuktoyaktuk was found! Success!\n",
      "Index: 2, City: cape town was found! Success!\n",
      "Index: 3, City: elat was found! Success!\n",
      "Index: 4, City: achutupo was found! Success!\n",
      "Index: 5, City: ahipara was found! Success!\n",
      "Index: 6, City: lodwar was found! Success!\n",
      "Index: 7, City: ushuaia was found! Success!\n",
      "Index: 8, City: gwanda was found! Success!\n",
      "Index: 9, City: norman wells was found! Success!\n",
      "Index: 10, City: groningen was found! Success!\n",
      "Index: 11, City: puerto ayora was found! Success!\n",
      "Index: 12, City: kodiak was found! Success!\n",
      "Index: 13, City: rikitea was found! Success!\n",
      "Index: 14, City: chokurdakh was found! Success!\n",
      "Index: 15, City: luderitz was found! Success!\n",
      "Index: 16, City: ponta do sol was found! Success!\n",
      "Index: 17, City: college was found! Success!\n",
      "Index: 18, City: cap malheureux was found! Success!\n",
      "Index: 19, City: iqaluit was found! Success!\n",
      "Index: 20, City: saskylakh was found! Success!\n",
      "Index: 21, City: mitsamiouli was found! Success!\n",
      "Index: 22, City: mandera was found! Success!\n",
      "Index: 23, City: yellowknife was found! Success!\n",
      "Index: 24, City: barrow was found! Success!\n",
      "Index: 25, City: mataura was found! Success!\n",
      "Index: 26, City: albany was found! Success!\n",
      "Index: 27, City: victoria was found! Success!\n",
      "Index: 28, City: khatanga was found! Success!\n",
      "Index: 29, City: tucuma was found! Success!\n",
      "Index: 30, City: nikolskoye was found! Success!\n",
      "Index: 31, City: ponta delgada was found! Success!\n",
      "Index: 32, City: san miguel was found! Success!\n",
      "Index: 33, City: punta arenas was found! Success!\n",
      "Index: 34, City: vytegra was found! Success!\n",
      "Index: 35, City: westport was found! Success!\n",
      "Index: 36, City: severo-kurilsk was found! Success!\n",
      "Index: 37, City: swift current was found! Success!\n",
      "Index: 38, City: ancud was found! Success!\n",
      "Index: 39, City: nanortalik was found! Success!\n",
      "Index: 40, City: sabha was found! Success!\n",
      "Index: 41, City: byron bay was found! Success!\n",
      "Index: 42, City: gisors was found! Success!\n",
      "Index: 43, City: bilibino was found! Success!\n",
      "Index: 44, City: hermanus was found! Success!\n",
      "Index: 45, City: qingyuan was found! Success!\n",
      "Index: 46, City: east london was found! Success!\n",
      "Index: 47, City: kuito was found! Success!\n",
      "Index: 48, City: jamestown was found! Success!\n",
      "Index: 49, City: pangody was found! Success!\n",
      "Index: 50, City: sisimiut was found! Success!\n",
      "Index: 51, City: valle de angeles was found! Success!\n",
      "Index: 52, City: gizo was found! Success!\n",
      "Index: 53, City: cidreira was found! Success!\n",
      "Index: 54, City: navrongo was found! Success!\n",
      "Index: 55, City: qaanaaq was found! Success!\n",
      "Index: {}, City: {} wasn't found. Tough luck..\n",
      "Index: 57, City: port alfred was found! Success!\n",
      "Index: 58, City: torbay was found! Success!\n",
      "Index: 59, City: vila franca do campo was found! Success!\n",
      "Index: 60, City: jalu was found! Success!\n",
      "Index: 61, City: castro was found! Success!\n",
      "Index: {}, City: {} wasn't found. Tough luck..\n",
      "Index: 63, City: pimenta bueno was found! Success!\n",
      "Index: 64, City: kautokeino was found! Success!\n",
      "Index: 65, City: kapaa was found! Success!\n",
      "Index: 66, City: masuguru was found! Success!\n",
      "Index: 67, City: yulara was found! Success!\n",
      "Index: 68, City: shagonar was found! Success!\n",
      "Index: {}, City: {} wasn't found. Tough luck..\n",
      "Index: 70, City: pevek was found! Success!\n",
      "Index: 71, City: hamilton was found! Success!\n",
      "Index: 72, City: quelimane was found! Success!\n",
      "Index: 73, City: ouadda was found! Success!\n",
      "Index: 74, City: sena madureira was found! Success!\n",
      "Index: {}, City: {} wasn't found. Tough luck..\n",
      "Index: 76, City: bengkulu was found! Success!\n",
      "Index: {}, City: {} wasn't found. Tough luck..\n",
      "Index: 78, City: kaeo was found! Success!\n",
      "Index: 79, City: plerin was found! Success!\n",
      "Index: 80, City: rypefjord was found! Success!\n",
      "Index: 81, City: kaarina was found! Success!\n",
      "Index: 82, City: salekhard was found! Success!\n",
      "Index: 83, City: harper was found! Success!\n",
      "Index: 84, City: kathu was found! Success!\n",
      "Index: 85, City: provideniya was found! Success!\n",
      "Index: {}, City: {} wasn't found. Tough luck..\n",
      "Index: 87, City: sokolovyy was found! Success!\n",
      "Index: 88, City: busselton was found! Success!\n",
      "Index: 89, City: new norfolk was found! Success!\n",
      "Index: 90, City: malinta was found! Success!\n",
      "Index: 91, City: buraydah was found! Success!\n",
      "Index: 92, City: bernay was found! Success!\n",
      "Index: 93, City: khandyga was found! Success!\n",
      "Index: 94, City: hilo was found! Success!\n",
      "Index: 95, City: cabo san lucas was found! Success!\n",
      "Index: 96, City: san policarpo was found! Success!\n",
      "Index: 97, City: jalingo was found! Success!\n",
      "Index: 98, City: tra vinh was found! Success!\n",
      "Index: 99, City: kawalu was found! Success!\n",
      "Index: 100, City: clyde river was found! Success!\n",
      "Index: 101, City: viareggio was found! Success!\n",
      "Index: {}, City: {} wasn't found. Tough luck..\n",
      "Index: 103, City: jambi was found! Success!\n",
      "Index: 104, City: dicabisagan was found! Success!\n",
      "Index: 105, City: balkhash was found! Success!\n",
      "Index: 106, City: langsa was found! Success!\n",
      "Index: 107, City: camacha was found! Success!\n",
      "Index: 108, City: iquitos was found! Success!\n",
      "Index: 109, City: khorramshahr was found! Success!\n",
      "Index: 110, City: ostrovnoy was found! Success!\n",
      "Index: 111, City: sayat was found! Success!\n",
      "Index: 112, City: matay was found! Success!\n",
      "Index: 113, City: puerto el triunfo was found! Success!\n",
      "Index: 114, City: dzaoudzi was found! Success!\n",
      "Index: 115, City: mount gambier was found! Success!\n",
      "Index: 116, City: airai was found! Success!\n",
      "Index: 117, City: wamba was found! Success!\n",
      "Index: 118, City: mungaoli was found! Success!\n",
      "Index: 119, City: nata was found! Success!\n",
      "Index: {}, City: {} wasn't found. Tough luck..\n",
      "Index: 121, City: avarua was found! Success!\n",
      "Index: 122, City: matamoros was found! Success!\n",
      "Index: 123, City: atuona was found! Success!\n",
      "Index: 124, City: laramie was found! Success!\n",
      "Index: 125, City: lianzhou was found! Success!\n",
      "Index: 126, City: tura was found! Success!\n",
      "Index: 127, City: saldanha was found! Success!\n",
      "Index: 128, City: kulhudhuffushi was found! Success!\n",
      "Index: 129, City: sur was found! Success!\n",
      "Index: 130, City: saint george was found! Success!\n",
      "Index: 131, City: dikson was found! Success!\n",
      "Index: 132, City: ozernovskiy was found! Success!\n",
      "Index: 133, City: alofi was found! Success!\n",
      "Index: 134, City: bambous virieux was found! Success!\n",
      "Index: 135, City: san cristobal was found! Success!\n",
      "Index: 136, City: caravelas was found! Success!\n",
      "Index: 137, City: kaitangata was found! Success!\n",
      "Index: {}, City: {} wasn't found. Tough luck..\n",
      "Index: 139, City: kenai was found! Success!\n",
      "Index: {}, City: {} wasn't found. Tough luck..\n",
      "Index: 141, City: mandal was found! Success!\n",
      "Index: 142, City: taunggyi was found! Success!\n",
      "Index: 143, City: dwarka was found! Success!\n",
      "Index: 144, City: makakilo city was found! Success!\n",
      "Index: 145, City: mehamn was found! Success!\n",
      "Index: 146, City: waingapu was found! Success!\n",
      "Index: 147, City: plettenberg bay was found! Success!\n",
      "Index: 148, City: carmen was found! Success!\n",
      "Index: 149, City: jvari was found! Success!\n",
      "Index: 150, City: lebork was found! Success!\n",
      "Index: 151, City: kavieng was found! Success!\n",
      "Index: 152, City: barsovo was found! Success!\n",
      "Index: 153, City: kahului was found! Success!\n",
      "Index: 154, City: fengrun was found! Success!\n",
      "Index: 155, City: altayskoye was found! Success!\n",
      "Index: 156, City: bathsheba was found! Success!\n",
      "Index: 157, City: srednekolymsk was found! Success!\n",
      "Index: 158, City: lebu was found! Success!\n",
      "Index: {}, City: {} wasn't found. Tough luck..\n",
      "Index: 160, City: bredasdorp was found! Success!\n",
      "Index: 161, City: longyearbyen was found! Success!\n",
      "Index: 162, City: kruisfontein was found! Success!\n",
      "Index: 163, City: anshan was found! Success!\n",
      "Index: 164, City: bisira was found! Success!\n",
      "Index: 165, City: san juan de arama was found! Success!\n",
      "Index: 166, City: los llanos de aridane was found! Success!\n",
      "Index: {}, City: {} wasn't found. Tough luck..\n",
      "Index: 168, City: esmeraldas was found! Success!\n",
      "Index: 169, City: tiksi was found! Success!\n",
      "Index: 170, City: aklavik was found! Success!\n",
      "Index: 171, City: freeport was found! Success!\n",
      "Index: 172, City: terrace was found! Success!\n",
      "Index: 173, City: goma was found! Success!\n",
      "Index: 174, City: inongo was found! Success!\n",
      "Index: 175, City: dunedin was found! Success!\n",
      "Index: 176, City: dingle was found! Success!\n"
     ]
    },
    {
     "name": "stdout",
     "output_type": "stream",
     "text": [
      "Index: 177, City: bluff was found! Success!\n",
      "Index: 178, City: ler was found! Success!\n",
      "Index: 179, City: katsuura was found! Success!\n",
      "Index: 180, City: hokitika was found! Success!\n",
      "Index: 181, City: columbus was found! Success!\n",
      "Index: 182, City: mascote was found! Success!\n",
      "Index: 183, City: teknaf was found! Success!\n",
      "Index: {}, City: {} wasn't found. Tough luck..\n",
      "Index: 185, City: lompoc was found! Success!\n",
      "Index: {}, City: {} wasn't found. Tough luck..\n",
      "Index: 187, City: ketchikan was found! Success!\n",
      "Index: 188, City: itoman was found! Success!\n",
      "Index: 189, City: vaini was found! Success!\n",
      "Index: 190, City: wattegama was found! Success!\n",
      "Index: 191, City: chumikan was found! Success!\n",
      "Index: 192, City: taoudenni was found! Success!\n",
      "Index: 193, City: aksu was found! Success!\n",
      "Index: 194, City: alexandria was found! Success!\n",
      "Index: 195, City: fortuna was found! Success!\n",
      "Index: 196, City: mount isa was found! Success!\n",
      "Index: 197, City: paragominas was found! Success!\n",
      "Index: 198, City: san patricio was found! Success!\n",
      "Index: 199, City: west bay was found! Success!\n",
      "Index: 200, City: la ronge was found! Success!\n",
      "Index: 201, City: metkovic was found! Success!\n",
      "Index: 202, City: loding was found! Success!\n",
      "Index: 203, City: leningradskiy was found! Success!\n",
      "Index: 204, City: bethel was found! Success!\n",
      "Index: 205, City: jiexiu was found! Success!\n",
      "Index: 206, City: sao filipe was found! Success!\n",
      "Index: 207, City: harlingen was found! Success!\n",
      "Index: 208, City: bandarbeyla was found! Success!\n",
      "Index: 209, City: eyl was found! Success!\n",
      "Index: 210, City: kirakira was found! Success!\n",
      "Index: 211, City: dubbo was found! Success!\n",
      "Index: {}, City: {} wasn't found. Tough luck..\n",
      "Index: 213, City: vanavara was found! Success!\n",
      "Index: 214, City: ambilobe was found! Success!\n",
      "Index: 215, City: maceio was found! Success!\n",
      "Index: 216, City: sola was found! Success!\n",
      "Index: 217, City: yaan was found! Success!\n",
      "Index: 218, City: mahebourg was found! Success!\n",
      "Index: 219, City: bud was found! Success!\n",
      "Index: 220, City: port blair was found! Success!\n",
      "Index: 221, City: bielsko-biala was found! Success!\n",
      "Index: 222, City: souillac was found! Success!\n",
      "Index: 223, City: angoche was found! Success!\n",
      "Index: {}, City: {} wasn't found. Tough luck..\n",
      "Index: 225, City: plantation was found! Success!\n",
      "Index: 226, City: mikhaylovka was found! Success!\n",
      "Index: 227, City: nome was found! Success!\n",
      "Index: 228, City: georgetown was found! Success!\n",
      "Index: 229, City: pittsburg was found! Success!\n",
      "Index: {}, City: {} wasn't found. Tough luck..\n",
      "Index: 231, City: olafsvik was found! Success!\n",
      "Index: 232, City: chuy was found! Success!\n",
      "Index: 233, City: bubaque was found! Success!\n",
      "Index: {}, City: {} wasn't found. Tough luck..\n",
      "Index: 235, City: port elizabeth was found! Success!\n",
      "Index: 236, City: boa vista was found! Success!\n",
      "Index: {}, City: {} wasn't found. Tough luck..\n",
      "Index: 238, City: araouane was found! Success!\n",
      "Index: 239, City: puerto quijarro was found! Success!\n",
      "Index: 240, City: vernon was found! Success!\n",
      "Index: 241, City: sinegorye was found! Success!\n",
      "Index: 242, City: olinda was found! Success!\n",
      "Index: 243, City: marsaxlokk was found! Success!\n",
      "Index: 244, City: fitii was found! Success!\n",
      "Index: 245, City: malartic was found! Success!\n",
      "Index: 246, City: komsomolskiy was found! Success!\n",
      "Index: 247, City: aberdeen was found! Success!\n",
      "Index: 248, City: zheleznodorozhnyy was found! Success!\n",
      "Index: 249, City: san quintin was found! Success!\n",
      "Index: 250, City: atar was found! Success!\n",
      "Index: 251, City: toora-khem was found! Success!\n",
      "Index: 252, City: vostok was found! Success!\n",
      "Index: 253, City: okitipupa was found! Success!\n",
      "Index: 254, City: ossora was found! Success!\n",
      "Index: 255, City: half moon bay was found! Success!\n",
      "Index: 256, City: faya was found! Success!\n",
      "Index: 257, City: kanye was found! Success!\n",
      "Index: 258, City: parit buntar was found! Success!\n",
      "Index: 259, City: klaksvik was found! Success!\n",
      "Index: 260, City: qaqortoq was found! Success!\n",
      "Index: 261, City: mastic beach was found! Success!\n",
      "Index: 262, City: akdepe was found! Success!\n",
      "Index: 263, City: hobart was found! Success!\n",
      "Index: 264, City: flinders was found! Success!\n",
      "Index: 265, City: niquelandia was found! Success!\n",
      "Index: 266, City: motril was found! Success!\n",
      "Index: 267, City: cairns was found! Success!\n",
      "Index: 268, City: sitka was found! Success!\n",
      "Index: 269, City: fort nelson was found! Success!\n",
      "Index: 270, City: passo de camaragibe was found! Success!\n",
      "Index: 271, City: shache was found! Success!\n",
      "Index: 272, City: thompson was found! Success!\n",
      "Index: 273, City: ribeira grande was found! Success!\n",
      "Index: 274, City: vaitape was found! Success!\n",
      "Index: 275, City: salalah was found! Success!\n",
      "Index: {}, City: {} wasn't found. Tough luck..\n",
      "Index: 277, City: ilulissat was found! Success!\n",
      "Index: 278, City: kashi was found! Success!\n",
      "Index: 279, City: flateby was found! Success!\n",
      "Index: 280, City: kloulklubed was found! Success!\n",
      "Index: 281, City: broken hill was found! Success!\n",
      "Index: {}, City: {} wasn't found. Tough luck..\n",
      "Index: 283, City: geraldton was found! Success!\n",
      "Index: 284, City: lubango was found! Success!\n",
      "Index: {}, City: {} wasn't found. Tough luck..\n",
      "Index: 286, City: butaritari was found! Success!\n",
      "Index: {}, City: {} wasn't found. Tough luck..\n",
      "Index: 288, City: talnakh was found! Success!\n",
      "Index: 289, City: mackenzie was found! Success!\n",
      "Index: 290, City: linxia was found! Success!\n",
      "Index: 291, City: isangel was found! Success!\n",
      "Index: 292, City: palora was found! Success!\n",
      "Index: {}, City: {} wasn't found. Tough luck..\n",
      "Index: 294, City: maniitsoq was found! Success!\n",
      "Index: 295, City: havelock was found! Success!\n",
      "Index: 296, City: tasiilaq was found! Success!\n",
      "Index: 297, City: moron was found! Success!\n",
      "Index: 298, City: ambalavao was found! Success!\n",
      "Index: 299, City: arraial do cabo was found! Success!\n",
      "Index: 300, City: hobyo was found! Success!\n",
      "Index: 301, City: evensk was found! Success!\n",
      "Index: {}, City: {} wasn't found. Tough luck..\n",
      "Index: 303, City: deputatskiy was found! Success!\n",
      "Index: 304, City: coron was found! Success!\n",
      "Index: 305, City: semenivka was found! Success!\n",
      "Index: 306, City: honningsvag was found! Success!\n",
      "Index: 307, City: pindushi was found! Success!\n",
      "Index: 308, City: sioux lookout was found! Success!\n",
      "Index: 309, City: logrono was found! Success!\n",
      "Index: 310, City: constitucion was found! Success!\n",
      "Index: 311, City: paris was found! Success!\n",
      "Index: 312, City: avera was found! Success!\n",
      "Index: 313, City: annau was found! Success!\n",
      "Index: 314, City: haridwar was found! Success!\n",
      "Index: 315, City: cascais was found! Success!\n",
      "Index: 316, City: upernavik was found! Success!\n",
      "Index: 317, City: zhangye was found! Success!\n",
      "Index: 318, City: esperance was found! Success!\n",
      "Index: 319, City: kanadey was found! Success!\n",
      "Index: 320, City: san jose was found! Success!\n",
      "Index: 321, City: coronel oviedo was found! Success!\n",
      "Index: 322, City: paka was found! Success!\n",
      "Index: 323, City: takaka was found! Success!\n",
      "Index: 324, City: morehead was found! Success!\n",
      "Index: 325, City: sorland was found! Success!\n",
      "Index: 326, City: mirnyy was found! Success!\n",
      "Index: 327, City: buala was found! Success!\n",
      "Index: 328, City: palu was found! Success!\n",
      "Index: 329, City: hami was found! Success!\n",
      "Index: 330, City: raahe was found! Success!\n",
      "Index: 331, City: natchitoches was found! Success!\n",
      "Index: 332, City: chipinge was found! Success!\n",
      "Index: 333, City: porto novo was found! Success!\n",
      "Index: 334, City: rosarito was found! Success!\n",
      "Index: 335, City: syriam was found! Success!\n",
      "Index: 336, City: saint-ambroise was found! Success!\n",
      "Index: 337, City: naron was found! Success!\n",
      "Index: 338, City: comodoro rivadavia was found! Success!\n",
      "Index: 339, City: angoram was found! Success!\n",
      "Index: 340, City: genhe was found! Success!\n",
      "Index: 341, City: manono was found! Success!\n",
      "Index: 342, City: huarmey was found! Success!\n",
      "Index: 343, City: hasaki was found! Success!\n",
      "Index: 344, City: beringovskiy was found! Success!\n",
      "Index: 345, City: pakxe was found! Success!\n",
      "Index: {}, City: {} wasn't found. Tough luck..\n",
      "Index: 347, City: khandbari was found! Success!\n",
      "Index: 348, City: tsuyama was found! Success!\n",
      "Index: 349, City: wolgast was found! Success!\n",
      "Index: 350, City: bambanglipuro was found! Success!\n",
      "Index: 351, City: inhambane was found! Success!\n",
      "Index: 352, City: heihe was found! Success!\n"
     ]
    },
    {
     "name": "stdout",
     "output_type": "stream",
     "text": [
      "Index: 353, City: fukuma was found! Success!\n",
      "Index: 354, City: filingue was found! Success!\n",
      "Index: 355, City: acoua was found! Success!\n",
      "Index: 356, City: carolina was found! Success!\n",
      "Index: 357, City: benghazi was found! Success!\n",
      "Index: 358, City: anadyr was found! Success!\n",
      "Index: 359, City: lazaro cardenas was found! Success!\n",
      "Index: {}, City: {} wasn't found. Tough luck..\n",
      "Index: 361, City: kalangala was found! Success!\n",
      "Index: 362, City: kargasok was found! Success!\n",
      "Index: 363, City: camocim was found! Success!\n",
      "Index: 364, City: beloha was found! Success!\n",
      "Index: 365, City: ambon was found! Success!\n",
      "Index: 366, City: cherskiy was found! Success!\n",
      "Index: 367, City: gat was found! Success!\n",
      "Index: {}, City: {} wasn't found. Tough luck..\n",
      "Index: 369, City: tilichiki was found! Success!\n",
      "Index: 370, City: amapa was found! Success!\n",
      "Index: 371, City: muros was found! Success!\n",
      "Index: 372, City: lar was found! Success!\n",
      "Index: {}, City: {} wasn't found. Tough luck..\n",
      "Index: 374, City: cayenne was found! Success!\n",
      "Index: 375, City: touros was found! Success!\n",
      "Index: {}, City: {} wasn't found. Tough luck..\n",
      "Index: 377, City: vao was found! Success!\n",
      "Index: 378, City: arman was found! Success!\n",
      "Index: 379, City: rzeszow was found! Success!\n",
      "Index: 380, City: skjervoy was found! Success!\n",
      "Index: 381, City: aneho was found! Success!\n",
      "Index: 382, City: lethem was found! Success!\n",
      "Index: 383, City: muqui was found! Success!\n",
      "Index: 384, City: belyy was found! Success!\n",
      "Index: 385, City: neyshabur was found! Success!\n",
      "Index: 386, City: kintinku was found! Success!\n",
      "Index: 387, City: shingu was found! Success!\n",
      "Index: 388, City: morros was found! Success!\n",
      "Index: 389, City: mangan was found! Success!\n",
      "Index: 390, City: celestun was found! Success!\n",
      "Index: 391, City: saint-philippe was found! Success!\n",
      "Index: 392, City: bella vista was found! Success!\n",
      "Index: 393, City: brazzaville was found! Success!\n",
      "Index: 394, City: nykoping was found! Success!\n",
      "Index: 395, City: nishihara was found! Success!\n",
      "Index: 396, City: turbat was found! Success!\n",
      "Index: 397, City: pangnirtung was found! Success!\n",
      "Index: 398, City: tsiroanomandidy was found! Success!\n",
      "Index: 399, City: san vicente was found! Success!\n",
      "Index: 400, City: mar del plata was found! Success!\n",
      "Index: 401, City: prince rupert was found! Success!\n",
      "Index: 402, City: yellandu was found! Success!\n",
      "Index: 403, City: kumi was found! Success!\n",
      "Index: 404, City: tomatlan was found! Success!\n",
      "Index: 405, City: ballina was found! Success!\n",
      "Index: 406, City: spirovo was found! Success!\n",
      "Index: 407, City: mayo was found! Success!\n",
      "Index: 408, City: thinadhoo was found! Success!\n",
      "Index: 409, City: salym was found! Success!\n",
      "Index: 410, City: hambantota was found! Success!\n",
      "Index: 411, City: jasper was found! Success!\n",
      "Index: 412, City: kendari was found! Success!\n",
      "Index: 413, City: andenes was found! Success!\n",
      "Index: 414, City: maragogi was found! Success!\n",
      "Index: 415, City: khudumelapye was found! Success!\n",
      "Index: 416, City: vardo was found! Success!\n",
      "Index: {}, City: {} wasn't found. Tough luck..\n",
      "Index: 418, City: okha was found! Success!\n",
      "Index: 419, City: narbonne was found! Success!\n",
      "Index: 420, City: aswan was found! Success!\n",
      "Index: 421, City: slavutych was found! Success!\n",
      "Index: 422, City: sydney was found! Success!\n",
      "Index: 423, City: yamada was found! Success!\n",
      "Index: 424, City: hithadhoo was found! Success!\n",
      "Index: 425, City: mundo nuevo was found! Success!\n",
      "Index: 426, City: goderich was found! Success!\n",
      "Index: 427, City: sao joao da barra was found! Success!\n",
      "Index: 428, City: waterloo was found! Success!\n",
      "Index: {}, City: {} wasn't found. Tough luck..\n",
      "Index: {}, City: {} wasn't found. Tough luck..\n",
      "Index: 431, City: la reforma was found! Success!\n",
      "Index: 432, City: faanui was found! Success!\n",
      "Index: 433, City: labuhan was found! Success!\n",
      "Index: 434, City: leshukonskoye was found! Success!\n",
      "Index: 435, City: hovd was found! Success!\n",
      "Index: {}, City: {} wasn't found. Tough luck..\n",
      "Index: 437, City: koungou was found! Success!\n",
      "Index: 438, City: neuquen was found! Success!\n",
      "Index: 439, City: lakes entrance was found! Success!\n",
      "Index: 440, City: ixtapa was found! Success!\n",
      "Index: 441, City: zatoka was found! Success!\n",
      "Index: 442, City: kushiro was found! Success!\n",
      "Index: 443, City: ust-omchug was found! Success!\n",
      "Index: 444, City: vila velha was found! Success!\n",
      "Index: 445, City: nisia floresta was found! Success!\n",
      "Index: 446, City: topchanchi was found! Success!\n",
      "Index: 447, City: tuatapere was found! Success!\n",
      "Index: 448, City: marondera was found! Success!\n",
      "Index: 449, City: stephenville was found! Success!\n",
      "Index: 450, City: watsa was found! Success!\n",
      "Index: 451, City: smithers was found! Success!\n",
      "Index: 452, City: dandong was found! Success!\n",
      "Index: 453, City: boyolangu was found! Success!\n",
      "Index: 454, City: zavetnoye was found! Success!\n",
      "Index: 455, City: saint-joseph was found! Success!\n",
      "Index: 456, City: berdigestyakh was found! Success!\n",
      "Index: 457, City: karratha was found! Success!\n",
      "Index: 458, City: natal was found! Success!\n",
      "Index: 459, City: awjilah was found! Success!\n",
      "Index: 460, City: haines junction was found! Success!\n",
      "Index: 461, City: port-gentil was found! Success!\n",
      "Index: 462, City: paamiut was found! Success!\n",
      "Index: 463, City: port hardy was found! Success!\n",
      "Index: 464, City: mae sai was found! Success!\n",
      "Index: 465, City: sainte-suzanne was found! Success!\n",
      "Index: 466, City: aitape was found! Success!\n",
      "Index: 467, City: kasongo-lunda was found! Success!\n",
      "Index: 468, City: rovaniemi was found! Success!\n",
      "Index: 469, City: olden was found! Success!\n",
      "Index: 470, City: daru was found! Success!\n",
      "Index: 471, City: lewiston was found! Success!\n",
      "Index: 472, City: evans was found! Success!\n",
      "Index: 473, City: marsabit was found! Success!\n",
      "Index: 474, City: richards bay was found! Success!\n",
      "Index: 475, City: keflavik was found! Success!\n",
      "Index: 476, City: chapais was found! Success!\n",
      "Index: 477, City: robertson was found! Success!\n",
      "Index: 478, City: pine bluff was found! Success!\n",
      "Index: 479, City: venado was found! Success!\n",
      "Index: 480, City: seymchan was found! Success!\n",
      "Index: 481, City: krasnoselkup was found! Success!\n",
      "Index: 482, City: camana was found! Success!\n",
      "Index: 483, City: champerico was found! Success!\n",
      "Index: 484, City: coffs harbour was found! Success!\n",
      "Index: 485, City: ichinohe was found! Success!\n",
      "Index: 486, City: mapiri was found! Success!\n",
      "Index: 487, City: taksimo was found! Success!\n",
      "Index: 488, City: pavlogradka was found! Success!\n",
      "Index: 489, City: abaete was found! Success!\n",
      "Index: 490, City: lagoa was found! Success!\n",
      "Index: 491, City: kununurra was found! Success!\n",
      "Index: 492, City: yenotayevka was found! Success!\n",
      "Index: 493, City: worland was found! Success!\n",
      "Index: 494, City: altamira was found! Success!\n",
      "Index: 495, City: sangar was found! Success!\n",
      "Index: 496, City: rexburg was found! Success!\n",
      "Index: 497, City: sambava was found! Success!\n",
      "Index: 498, City: maykor was found! Success!\n",
      "Index: 499, City: laguna was found! Success!\n",
      "Index: 500, City: berezniki was found! Success!\n",
      "Index: 501, City: carahue was found! Success!\n",
      "Index: 502, City: samarai was found! Success!\n",
      "Index: {}, City: {} wasn't found. Tough luck..\n",
      "Index: 504, City: krutinka was found! Success!\n",
      "Index: {}, City: {} wasn't found. Tough luck..\n",
      "Index: 506, City: gornopravdinsk was found! Success!\n",
      "Index: 507, City: huttwil was found! Success!\n",
      "Index: 508, City: ust-tsilma was found! Success!\n",
      "Index: {}, City: {} wasn't found. Tough luck..\n",
      "Index: 510, City: marawi was found! Success!\n",
      "Index: 511, City: hurricane was found! Success!\n",
      "Index: 512, City: salinopolis was found! Success!\n",
      "Index: 513, City: chamrajnagar was found! Success!\n",
      "Index: 514, City: ucluelet was found! Success!\n",
      "Index: 515, City: port-cartier was found! Success!\n",
      "Index: 516, City: yumen was found! Success!\n",
      "Index: 517, City: pacific grove was found! Success!\n",
      "Index: 518, City: venkatagiri was found! Success!\n",
      "Index: 519, City: puqi was found! Success!\n",
      "Index: {}, City: {} wasn't found. Tough luck..\n",
      "Index: 521, City: trairi was found! Success!\n",
      "Index: 522, City: mouzouras was found! Success!\n",
      "Index: 523, City: luis correia was found! Success!\n",
      "Index: 524, City: port macquarie was found! Success!\n",
      "Index: {}, City: {} wasn't found. Tough luck..\n",
      "Index: 526, City: hammerfest was found! Success!\n"
     ]
    },
    {
     "name": "stdout",
     "output_type": "stream",
     "text": [
      "Index: 527, City: zakamensk was found! Success!\n",
      "Index: {}, City: {} wasn't found. Tough luck..\n",
      "Index: 529, City: naze was found! Success!\n",
      "Index: 530, City: nemuro was found! Success!\n",
      "Index: 531, City: capitao poco was found! Success!\n",
      "Index: 532, City: cerro de pasco was found! Success!\n",
      "Index: 533, City: el rosario was found! Success!\n",
      "Index: 534, City: nenjiang was found! Success!\n",
      "Index: 535, City: bela vista de goias was found! Success!\n",
      "Index: 536, City: shush was found! Success!\n",
      "Index: 537, City: wajir was found! Success!\n",
      "Index: 538, City: pyinmana was found! Success!\n",
      "Index: 539, City: biak was found! Success!\n",
      "Index: 540, City: sabzevar was found! Success!\n",
      "Index: 541, City: rongcheng was found! Success!\n",
      "Index: {}, City: {} wasn't found. Tough luck..\n",
      "Index: 543, City: general bravo was found! Success!\n",
      "Index: 544, City: dongsheng was found! Success!\n",
      "Index: 545, City: bilma was found! Success!\n",
      "Index: 546, City: lima was found! Success!\n",
      "Index: {}, City: {} wasn't found. Tough luck..\n",
      "Index: 548, City: manthani was found! Success!\n",
      "Index: 549, City: fairbanks was found! Success!\n",
      "Index: 550, City: saint-augustin was found! Success!\n",
      "Index: 551, City: trojan was found! Success!\n",
      "Index: 552, City: hongjiang was found! Success!\n",
      "Index: 553, City: missoula was found! Success!\n",
      "Index: 554, City: christchurch was found! Success!\n",
      "Index: 555, City: karasjok was found! Success!\n",
      "Index: 556, City: manggar was found! Success!\n",
      "Index: 557, City: sao jose da coroa grande was found! Success!\n",
      "Index: 558, City: namatanai was found! Success!\n",
      "Index: 559, City: codrington was found! Success!\n",
      "Index: 560, City: krasnaya gora was found! Success!\n",
      "Index: 561, City: sexsmith was found! Success!\n",
      "Index: 562, City: sibolga was found! Success!\n",
      "Index: 563, City: lorengau was found! Success!\n",
      "Index: 564, City: peterborough was found! Success!\n",
      "Index: 565, City: portland was found! Success!\n",
      "Index: 566, City: brufut was found! Success!\n",
      "Index: 567, City: puro was found! Success!\n",
      "Index: 568, City: penzance was found! Success!\n",
      "Index: 569, City: uzunovo was found! Success!\n",
      "Index: 570, City: honiara was found! Success!\n",
      "Index: 571, City: qinhuangdao was found! Success!\n",
      "Index: 572, City: jijiga was found! Success!\n",
      "Index: {}, City: {} wasn't found. Tough luck..\n",
      "Index: 574, City: praia was found! Success!\n",
      "Index: 575, City: kaberamaido was found! Success!\n",
      "Index: 576, City: ouahigouya was found! Success!\n",
      "Index: 577, City: tutoia was found! Success!\n",
      "Index: 578, City: moissala was found! Success!\n",
      "Index: 579, City: puerto ayacucho was found! Success!\n",
      "Index: 580, City: san andres was found! Success!\n",
      "Index: 581, City: trelleborg was found! Success!\n",
      "Index: 582, City: altoona was found! Success!\n",
      "Index: 583, City: assiniboia was found! Success!\n",
      "Index: 584, City: petropavlovsk-kamchatskiy was found! Success!\n",
      "Index: 585, City: arlit was found! Success!\n",
      "Index: 586, City: shakiso was found! Success!\n",
      "Index: 587, City: hauterive was found! Success!\n",
      "Index: 588, City: kolda was found! Success!\n",
      "Index: 589, City: sehithwa was found! Success!\n",
      "Index: 590, City: yerbogachen was found! Success!\n",
      "Index: 591, City: coihaique was found! Success!\n",
      "Index: 592, City: saint-pierre was found! Success!\n",
      "Index: 593, City: cravo norte was found! Success!\n",
      "Index: 594, City: narsaq was found! Success!\n",
      "Index: 595, City: juegang was found! Success!\n",
      "Index: 596, City: paopao was found! Success!\n",
      "Index: 597, City: mazagao was found! Success!\n",
      "Index: 598, City: la rioja was found! Success!\n",
      "Index: {}, City: {} wasn't found. Tough luck..\n",
      "Index: 600, City: batagay was found! Success!\n",
      "Index: 601, City: anori was found! Success!\n",
      "Index: 602, City: dromolaxia was found! Success!\n",
      "Index: 603, City: grindavik was found! Success!\n",
      "Index: 604, City: nelson bay was found! Success!\n",
      "Index: 605, City: hatillo was found! Success!\n",
      "Index: 606, City: ternate was found! Success!\n",
      "Index: 607, City: saint anthony was found! Success!\n",
      "Index: 608, City: kirovskiy was found! Success!\n",
      "Index: 609, City: saint-francois was found! Success!\n",
      "Index: 610, City: belyy yar was found! Success!\n",
      "Index: 611, City: charlestown was found! Success!\n",
      "Index: 612, City: solnechnyy was found! Success!\n",
      "Index: 613, City: grand gaube was found! Success!\n",
      "Index: {}, City: {} wasn't found. Tough luck..\n",
      "Index: {}, City: {} wasn't found. Tough luck..\n",
      "Index: 616, City: youghal was found! Success!\n",
      "Index: {}, City: {} wasn't found. Tough luck..\n",
      "Index: 618, City: zyryanovsk was found! Success!\n",
      "Index: 619, City: kot diji was found! Success!\n",
      "Index: 620, City: nara was found! Success!\n",
      "Index: 621, City: dudinka was found! Success!\n",
      "Index: 622, City: panjab was found! Success!\n",
      "Index: 623, City: pringsewu was found! Success!\n",
      "Index: 624, City: baie-saint-paul was found! Success!\n",
      "Index: 625, City: abha was found! Success!\n",
      "Index: 626, City: bundaberg was found! Success!\n"
     ]
    }
   ],
   "source": [
    "#Let's do that for each city now\n",
    "\n",
    "#Create list\n",
    "date = []\n",
    "name = []\n",
    "country = []\n",
    "lat = []\n",
    "long = []\n",
    "humidity = []\n",
    "pressure = []\n",
    "max_temp = []\n",
    "min_temp = []\n",
    "clouds = []\n",
    "wind_speed = []\n",
    "\n",
    "#City loop\n",
    "for index, city in enumerate(cities):\n",
    "    #Piece together URL\n",
    "    query_url = url + \"appid=\" + weather_api_key + \"&q=\" + city\n",
    "    #turn into .json\n",
    "    city_json = requests.get(query_url).json()\n",
    "    #try and except to seperate errors\n",
    "    try:\n",
    "        name.append(city_json[\"name\"])\n",
    "        date.append(city_json[\"dt\"])\n",
    "        country.append(city_json[\"sys\"][\"country\"])\n",
    "        lat.append(city_json[\"coord\"][\"lat\"])\n",
    "        long.append(city_json[\"coord\"][\"lon\"])\n",
    "        humidity.append(city_json[\"main\"][\"humidity\"])\n",
    "        pressure.append(city_json[\"main\"][\"pressure\"])\n",
    "        max_temp.append(city_json[\"main\"][\"temp_max\"])\n",
    "        min_temp.append(city_json[\"main\"][\"temp_min\"])\n",
    "        clouds.append(city_json[\"clouds\"][\"all\"])\n",
    "        wind_speed.append(city_json[\"wind\"][\"speed\"])\n",
    "        print(\"Index: {}, City: {} was found! Success!\" .format(index, city))\n",
    "    except:\n",
    "        print(\"Index: {}, City: {} wasn't found. Tough luck..\")"
   ]
  },
  {
   "cell_type": "markdown",
   "metadata": {},
   "source": [
    "# #Convert Raw Data to DataFrame\n",
    "* Export the city data into a .csv.\n",
    "* Display the DataFrame"
   ]
  },
  {
   "cell_type": "code",
   "execution_count": 5,
   "metadata": {},
   "outputs": [
    {
     "data": {
      "text/html": [
       "<div>\n",
       "<style scoped>\n",
       "    .dataframe tbody tr th:only-of-type {\n",
       "        vertical-align: middle;\n",
       "    }\n",
       "\n",
       "    .dataframe tbody tr th {\n",
       "        vertical-align: top;\n",
       "    }\n",
       "\n",
       "    .dataframe thead th {\n",
       "        text-align: right;\n",
       "    }\n",
       "</style>\n",
       "<table border=\"1\" class=\"dataframe\">\n",
       "  <thead>\n",
       "    <tr style=\"text-align: right;\">\n",
       "      <th></th>\n",
       "      <th>City</th>\n",
       "      <th>Date</th>\n",
       "      <th>Country</th>\n",
       "      <th>Latitude</th>\n",
       "      <th>Longitude</th>\n",
       "      <th>Humidity</th>\n",
       "      <th>Pressure</th>\n",
       "      <th>Max_Temp</th>\n",
       "      <th>Min_Temp</th>\n",
       "      <th>Cloudiness</th>\n",
       "      <th>Wind Speed</th>\n",
       "    </tr>\n",
       "  </thead>\n",
       "  <tbody>\n",
       "    <tr>\n",
       "      <th>0</th>\n",
       "      <td>Carnarvon</td>\n",
       "      <td>1592768314</td>\n",
       "      <td>AU</td>\n",
       "      <td>-24.87</td>\n",
       "      <td>113.63</td>\n",
       "      <td>82</td>\n",
       "      <td>1014</td>\n",
       "      <td>288.15</td>\n",
       "      <td>288.15</td>\n",
       "      <td>0</td>\n",
       "      <td>2.60</td>\n",
       "    </tr>\n",
       "    <tr>\n",
       "      <th>1</th>\n",
       "      <td>Tuktoyaktuk</td>\n",
       "      <td>1592768027</td>\n",
       "      <td>CA</td>\n",
       "      <td>69.45</td>\n",
       "      <td>-133.04</td>\n",
       "      <td>86</td>\n",
       "      <td>1011</td>\n",
       "      <td>278.15</td>\n",
       "      <td>278.15</td>\n",
       "      <td>90</td>\n",
       "      <td>2.10</td>\n",
       "    </tr>\n",
       "    <tr>\n",
       "      <th>2</th>\n",
       "      <td>Cape Town</td>\n",
       "      <td>1592768314</td>\n",
       "      <td>ZA</td>\n",
       "      <td>-33.93</td>\n",
       "      <td>18.42</td>\n",
       "      <td>93</td>\n",
       "      <td>1023</td>\n",
       "      <td>288.71</td>\n",
       "      <td>286.48</td>\n",
       "      <td>75</td>\n",
       "      <td>2.60</td>\n",
       "    </tr>\n",
       "    <tr>\n",
       "      <th>3</th>\n",
       "      <td>Eilat</td>\n",
       "      <td>1592768314</td>\n",
       "      <td>IL</td>\n",
       "      <td>29.56</td>\n",
       "      <td>34.95</td>\n",
       "      <td>19</td>\n",
       "      <td>1007</td>\n",
       "      <td>308.15</td>\n",
       "      <td>308.15</td>\n",
       "      <td>0</td>\n",
       "      <td>0.80</td>\n",
       "    </tr>\n",
       "    <tr>\n",
       "      <th>4</th>\n",
       "      <td>Achutupo</td>\n",
       "      <td>1592768314</td>\n",
       "      <td>PA</td>\n",
       "      <td>9.20</td>\n",
       "      <td>-77.98</td>\n",
       "      <td>69</td>\n",
       "      <td>1008</td>\n",
       "      <td>302.62</td>\n",
       "      <td>302.62</td>\n",
       "      <td>100</td>\n",
       "      <td>2.42</td>\n",
       "    </tr>\n",
       "    <tr>\n",
       "      <th>5</th>\n",
       "      <td>Ahipara</td>\n",
       "      <td>1592768032</td>\n",
       "      <td>NZ</td>\n",
       "      <td>-35.17</td>\n",
       "      <td>173.17</td>\n",
       "      <td>83</td>\n",
       "      <td>1017</td>\n",
       "      <td>286.26</td>\n",
       "      <td>286.26</td>\n",
       "      <td>8</td>\n",
       "      <td>4.39</td>\n",
       "    </tr>\n",
       "    <tr>\n",
       "      <th>6</th>\n",
       "      <td>Lodwar</td>\n",
       "      <td>1592768314</td>\n",
       "      <td>KE</td>\n",
       "      <td>3.12</td>\n",
       "      <td>35.60</td>\n",
       "      <td>45</td>\n",
       "      <td>1011</td>\n",
       "      <td>302.98</td>\n",
       "      <td>302.98</td>\n",
       "      <td>32</td>\n",
       "      <td>2.03</td>\n",
       "    </tr>\n",
       "    <tr>\n",
       "      <th>7</th>\n",
       "      <td>Ushuaia</td>\n",
       "      <td>1592768104</td>\n",
       "      <td>AR</td>\n",
       "      <td>-54.80</td>\n",
       "      <td>-68.30</td>\n",
       "      <td>88</td>\n",
       "      <td>996</td>\n",
       "      <td>277.15</td>\n",
       "      <td>277.15</td>\n",
       "      <td>40</td>\n",
       "      <td>2.10</td>\n",
       "    </tr>\n",
       "    <tr>\n",
       "      <th>8</th>\n",
       "      <td>Gwanda</td>\n",
       "      <td>1592768315</td>\n",
       "      <td>ZW</td>\n",
       "      <td>-20.93</td>\n",
       "      <td>29.00</td>\n",
       "      <td>42</td>\n",
       "      <td>1022</td>\n",
       "      <td>284.87</td>\n",
       "      <td>284.87</td>\n",
       "      <td>0</td>\n",
       "      <td>0.68</td>\n",
       "    </tr>\n",
       "    <tr>\n",
       "      <th>9</th>\n",
       "      <td>Norman Wells</td>\n",
       "      <td>1592768016</td>\n",
       "      <td>CA</td>\n",
       "      <td>65.28</td>\n",
       "      <td>-126.83</td>\n",
       "      <td>100</td>\n",
       "      <td>1004</td>\n",
       "      <td>285.15</td>\n",
       "      <td>285.15</td>\n",
       "      <td>90</td>\n",
       "      <td>4.60</td>\n",
       "    </tr>\n",
       "  </tbody>\n",
       "</table>\n",
       "</div>"
      ],
      "text/plain": [
       "           City        Date Country  Latitude  Longitude  Humidity  Pressure  \\\n",
       "0     Carnarvon  1592768314      AU    -24.87     113.63        82      1014   \n",
       "1   Tuktoyaktuk  1592768027      CA     69.45    -133.04        86      1011   \n",
       "2     Cape Town  1592768314      ZA    -33.93      18.42        93      1023   \n",
       "3         Eilat  1592768314      IL     29.56      34.95        19      1007   \n",
       "4      Achutupo  1592768314      PA      9.20     -77.98        69      1008   \n",
       "5       Ahipara  1592768032      NZ    -35.17     173.17        83      1017   \n",
       "6        Lodwar  1592768314      KE      3.12      35.60        45      1011   \n",
       "7       Ushuaia  1592768104      AR    -54.80     -68.30        88       996   \n",
       "8        Gwanda  1592768315      ZW    -20.93      29.00        42      1022   \n",
       "9  Norman Wells  1592768016      CA     65.28    -126.83       100      1004   \n",
       "\n",
       "   Max_Temp  Min_Temp  Cloudiness  Wind Speed  \n",
       "0    288.15    288.15           0        2.60  \n",
       "1    278.15    278.15          90        2.10  \n",
       "2    288.71    286.48          75        2.60  \n",
       "3    308.15    308.15           0        0.80  \n",
       "4    302.62    302.62         100        2.42  \n",
       "5    286.26    286.26           8        4.39  \n",
       "6    302.98    302.98          32        2.03  \n",
       "7    277.15    277.15          40        2.10  \n",
       "8    284.87    284.87           0        0.68  \n",
       "9    285.15    285.15          90        4.60  "
      ]
     },
     "execution_count": 5,
     "metadata": {},
     "output_type": "execute_result"
    }
   ],
   "source": [
    "#Weather Data Frame\n",
    "weather_df = pd.DataFrame({\n",
    "    \"City\": name,\n",
    "    \"Date\": date, \n",
    "    \"Country\": country,\n",
    "    \"Latitude\": lat,\n",
    "    \"Longitude\": long,\n",
    "    \"Humidity\": humidity,\n",
    "    \"Pressure\": pressure,\n",
    "    \"Max_Temp\": max_temp,\n",
    "    \"Min_Temp\": min_temp,\n",
    "    \"Cloudiness\": clouds,\n",
    "    \"Wind Speed\": wind_speed,\n",
    "})\n",
    "#Display Weather Data Frame\n",
    "weather_df.head(10)"
   ]
  },
  {
   "cell_type": "markdown",
   "metadata": {},
   "source": [
    "### Plotting the Data\n",
    "* Use proper labeling of the plots using plot titles (including date of analysis) and axes labels.\n",
    "* Save the plotted figures as .pngs."
   ]
  },
  {
   "cell_type": "markdown",
   "metadata": {},
   "source": [
    "#### Latitude vs. Temperature Plot"
   ]
  },
  {
   "cell_type": "code",
   "execution_count": 6,
   "metadata": {
    "scrolled": true
   },
   "outputs": [
    {
     "data": {
      "image/png": "[encoded data removed]",
      "text/plain": [
       "<Figure size 432x288 with 1 Axes>"
      ]
     },
     "metadata": {
      "needs_background": "light"
     },
     "output_type": "display_data"
    }
   ],
   "source": [
    "#Scatterplot config\n",
    "plt.scatter(weather_df[\"Latitude\"], weather_df[\"Max_Temp\"], marker=\"o\", edgecolors = {\"black\"})\n",
    "plt.title(\"City Latitude vs Max Temp\")\n",
    "plt.ylabel(\"Max. Temp\")\n",
    "plt.xlabel(\"Latitude\")\n",
    "plt.grid(True)\n",
    "\n",
    "#Save Scatterplot as image\n",
    "plt.savefig(\"Latitude_MaxTemp.png\")\n",
    "\n",
    "#Display Scatterplot\n",
    "plt.show()"
   ]
  },
  {
   "cell_type": "markdown",
   "metadata": {},
   "source": [
    "#### Latitude vs. Humidity Plot"
   ]
  },
  {
   "cell_type": "code",
   "execution_count": 7,
   "metadata": {},
   "outputs": [
    {
     "data": {
      "image/png": "[encoded data removed]",
      "text/plain": [
       "<Figure size 432x288 with 1 Axes>"
      ]
     },
     "metadata": {
      "needs_background": "light"
     },
     "output_type": "display_data"
    }
   ],
   "source": [
    "#Scatterplot config\n",
    "plt.scatter(weather_df[\"Latitude\"], weather_df[\"Humidity\"], marker='o', edgecolors = {\"black\"})\n",
    "plt.title(\"City Latitude vs Humidity\")\n",
    "plt.ylabel(\"Humidity\")\n",
    "plt.xlabel(\"Latitude\")\n",
    "plt.grid(True)\n",
    "\n",
    "#Save Scatterplot as image\n",
    "plt.savefig(\"Latitude_Humidity.png\")\n",
    "\n",
    "#Display Scatterplot\n",
    "plt.show()"
   ]
  },
  {
   "cell_type": "markdown",
   "metadata": {},
   "source": [
    "#### Latitude vs. Cloudiness Plot"
   ]
  },
  {
   "cell_type": "code",
   "execution_count": 8,
   "metadata": {},
   "outputs": [
    {
     "data": {
      "image/png": "[encoded data removed]",
      "text/plain": [
       "<Figure size 432x288 with 1 Axes>"
      ]
     },
     "metadata": {
      "needs_background": "light"
     },
     "output_type": "display_data"
    }
   ],
   "source": [
    "#Scatterplot config\n",
    "plt.scatter(weather_df[\"Latitude\"], weather_df[\"Cloudiness\"], marker='o', edgecolors = {\"black\"})\n",
    "plt.title(\"City Latitude vs Cloudiness\")\n",
    "plt.ylabel(\"Cloudiness\")\n",
    "plt.xlabel(\"Latitude\")\n",
    "plt.grid(True)\n",
    "\n",
    "#Save Scatterplot as image\n",
    "plt.savefig(\"Latitude_Cloudiness.png\")\n",
    "\n",
    "#Display Scatterplot\n",
    "plt.show()"
   ]
  },
  {
   "cell_type": "markdown",
   "metadata": {},
   "source": [
    "#### Latitude vs. Wind Speed Plot"
   ]
  },
  {
   "cell_type": "code",
   "execution_count": 9,
   "metadata": {},
   "outputs": [
    {
     "data": {
      "image/png": "[encoded data removed]",
      "text/plain": [
       "<Figure size 432x288 with 1 Axes>"
      ]
     },
     "metadata": {
      "needs_background": "light"
     },
     "output_type": "display_data"
    }
   ],
   "source": [
    "#Scatterplot config\n",
    "plt.scatter(weather_df[\"Latitude\"], weather_df[\"Wind Speed\"], marker='o', edgecolors = {\"black\"})\n",
    "plt.title(\"City Latitude vs Wind Speed\")\n",
    "plt.ylabel(\"Wind Speed\")\n",
    "plt.xlabel(\"Latitude\")\n",
    "plt.grid(True)\n",
    "\n",
    "#Save Scatterplot as image\n",
    "plt.savefig(\"Latitude_WindSpeed.png\")\n",
    "\n",
    "#Display Scatterplot\n",
    "plt.show()"
   ]
  },
  {
   "cell_type": "markdown",
   "metadata": {},
   "source": [
    "## Linear Regression"
   ]
  },
  {
   "cell_type": "code",
   "execution_count": 10,
   "metadata": {},
   "outputs": [
    {
     "data": {
      "text/html": [
       "<div>\n",
       "<style scoped>\n",
       "    .dataframe tbody tr th:only-of-type {\n",
       "        vertical-align: middle;\n",
       "    }\n",
       "\n",
       "    .dataframe tbody tr th {\n",
       "        vertical-align: top;\n",
       "    }\n",
       "\n",
       "    .dataframe thead th {\n",
       "        text-align: right;\n",
       "    }\n",
       "</style>\n",
       "<table border=\"1\" class=\"dataframe\">\n",
       "  <thead>\n",
       "    <tr style=\"text-align: right;\">\n",
       "      <th></th>\n",
       "      <th>City</th>\n",
       "      <th>Date</th>\n",
       "      <th>Country</th>\n",
       "      <th>Latitude</th>\n",
       "      <th>Longitude</th>\n",
       "      <th>Humidity</th>\n",
       "      <th>Pressure</th>\n",
       "      <th>Max_Temp</th>\n",
       "      <th>Min_Temp</th>\n",
       "      <th>Cloudiness</th>\n",
       "      <th>Wind Speed</th>\n",
       "    </tr>\n",
       "  </thead>\n",
       "  <tbody>\n",
       "    <tr>\n",
       "      <th>1</th>\n",
       "      <td>Tuktoyaktuk</td>\n",
       "      <td>1592768027</td>\n",
       "      <td>CA</td>\n",
       "      <td>69.45</td>\n",
       "      <td>-133.04</td>\n",
       "      <td>86</td>\n",
       "      <td>1011</td>\n",
       "      <td>278.15</td>\n",
       "      <td>278.15</td>\n",
       "      <td>90</td>\n",
       "      <td>2.10</td>\n",
       "    </tr>\n",
       "    <tr>\n",
       "      <th>3</th>\n",
       "      <td>Eilat</td>\n",
       "      <td>1592768314</td>\n",
       "      <td>IL</td>\n",
       "      <td>29.56</td>\n",
       "      <td>34.95</td>\n",
       "      <td>19</td>\n",
       "      <td>1007</td>\n",
       "      <td>308.15</td>\n",
       "      <td>308.15</td>\n",
       "      <td>0</td>\n",
       "      <td>0.80</td>\n",
       "    </tr>\n",
       "    <tr>\n",
       "      <th>4</th>\n",
       "      <td>Achutupo</td>\n",
       "      <td>1592768314</td>\n",
       "      <td>PA</td>\n",
       "      <td>9.20</td>\n",
       "      <td>-77.98</td>\n",
       "      <td>69</td>\n",
       "      <td>1008</td>\n",
       "      <td>302.62</td>\n",
       "      <td>302.62</td>\n",
       "      <td>100</td>\n",
       "      <td>2.42</td>\n",
       "    </tr>\n",
       "    <tr>\n",
       "      <th>6</th>\n",
       "      <td>Lodwar</td>\n",
       "      <td>1592768314</td>\n",
       "      <td>KE</td>\n",
       "      <td>3.12</td>\n",
       "      <td>35.60</td>\n",
       "      <td>45</td>\n",
       "      <td>1011</td>\n",
       "      <td>302.98</td>\n",
       "      <td>302.98</td>\n",
       "      <td>32</td>\n",
       "      <td>2.03</td>\n",
       "    </tr>\n",
       "    <tr>\n",
       "      <th>9</th>\n",
       "      <td>Norman Wells</td>\n",
       "      <td>1592768016</td>\n",
       "      <td>CA</td>\n",
       "      <td>65.28</td>\n",
       "      <td>-126.83</td>\n",
       "      <td>100</td>\n",
       "      <td>1004</td>\n",
       "      <td>285.15</td>\n",
       "      <td>285.15</td>\n",
       "      <td>90</td>\n",
       "      <td>4.60</td>\n",
       "    </tr>\n",
       "  </tbody>\n",
       "</table>\n",
       "</div>"
      ],
      "text/plain": [
       "           City        Date Country  Latitude  Longitude  Humidity  Pressure  \\\n",
       "1   Tuktoyaktuk  1592768027      CA     69.45    -133.04        86      1011   \n",
       "3         Eilat  1592768314      IL     29.56      34.95        19      1007   \n",
       "4      Achutupo  1592768314      PA      9.20     -77.98        69      1008   \n",
       "6        Lodwar  1592768314      KE      3.12      35.60        45      1011   \n",
       "9  Norman Wells  1592768016      CA     65.28    -126.83       100      1004   \n",
       "\n",
       "   Max_Temp  Min_Temp  Cloudiness  Wind Speed  \n",
       "1    278.15    278.15          90        2.10  \n",
       "3    308.15    308.15           0        0.80  \n",
       "4    302.62    302.62         100        2.42  \n",
       "6    302.98    302.98          32        2.03  \n",
       "9    285.15    285.15          90        4.60  "
      ]
     },
     "execution_count": 10,
     "metadata": {},
     "output_type": "execute_result"
    }
   ],
   "source": [
    "# Create Northern Hemisphere DataFrame\n",
    "north_df = weather_df.loc[weather_df[\"Latitude\"]>0]\n",
    "\n",
    "#Display DataFrame\n",
    "north_df.head()"
   ]
  },
  {
   "cell_type": "code",
   "execution_count": 11,
   "metadata": {},
   "outputs": [
    {
     "data": {
      "text/html": [
       "<div>\n",
       "<style scoped>\n",
       "    .dataframe tbody tr th:only-of-type {\n",
       "        vertical-align: middle;\n",
       "    }\n",
       "\n",
       "    .dataframe tbody tr th {\n",
       "        vertical-align: top;\n",
       "    }\n",
       "\n",
       "    .dataframe thead th {\n",
       "        text-align: right;\n",
       "    }\n",
       "</style>\n",
       "<table border=\"1\" class=\"dataframe\">\n",
       "  <thead>\n",
       "    <tr style=\"text-align: right;\">\n",
       "      <th></th>\n",
       "      <th>City</th>\n",
       "      <th>Date</th>\n",
       "      <th>Country</th>\n",
       "      <th>Latitude</th>\n",
       "      <th>Longitude</th>\n",
       "      <th>Humidity</th>\n",
       "      <th>Pressure</th>\n",
       "      <th>Max_Temp</th>\n",
       "      <th>Min_Temp</th>\n",
       "      <th>Cloudiness</th>\n",
       "      <th>Wind Speed</th>\n",
       "    </tr>\n",
       "  </thead>\n",
       "  <tbody>\n",
       "    <tr>\n",
       "      <th>0</th>\n",
       "      <td>Carnarvon</td>\n",
       "      <td>1592768314</td>\n",
       "      <td>AU</td>\n",
       "      <td>-24.87</td>\n",
       "      <td>113.63</td>\n",
       "      <td>82</td>\n",
       "      <td>1014</td>\n",
       "      <td>288.15</td>\n",
       "      <td>288.15</td>\n",
       "      <td>0</td>\n",
       "      <td>2.60</td>\n",
       "    </tr>\n",
       "    <tr>\n",
       "      <th>2</th>\n",
       "      <td>Cape Town</td>\n",
       "      <td>1592768314</td>\n",
       "      <td>ZA</td>\n",
       "      <td>-33.93</td>\n",
       "      <td>18.42</td>\n",
       "      <td>93</td>\n",
       "      <td>1023</td>\n",
       "      <td>288.71</td>\n",
       "      <td>286.48</td>\n",
       "      <td>75</td>\n",
       "      <td>2.60</td>\n",
       "    </tr>\n",
       "    <tr>\n",
       "      <th>5</th>\n",
       "      <td>Ahipara</td>\n",
       "      <td>1592768032</td>\n",
       "      <td>NZ</td>\n",
       "      <td>-35.17</td>\n",
       "      <td>173.17</td>\n",
       "      <td>83</td>\n",
       "      <td>1017</td>\n",
       "      <td>286.26</td>\n",
       "      <td>286.26</td>\n",
       "      <td>8</td>\n",
       "      <td>4.39</td>\n",
       "    </tr>\n",
       "    <tr>\n",
       "      <th>7</th>\n",
       "      <td>Ushuaia</td>\n",
       "      <td>1592768104</td>\n",
       "      <td>AR</td>\n",
       "      <td>-54.80</td>\n",
       "      <td>-68.30</td>\n",
       "      <td>88</td>\n",
       "      <td>996</td>\n",
       "      <td>277.15</td>\n",
       "      <td>277.15</td>\n",
       "      <td>40</td>\n",
       "      <td>2.10</td>\n",
       "    </tr>\n",
       "    <tr>\n",
       "      <th>8</th>\n",
       "      <td>Gwanda</td>\n",
       "      <td>1592768315</td>\n",
       "      <td>ZW</td>\n",
       "      <td>-20.93</td>\n",
       "      <td>29.00</td>\n",
       "      <td>42</td>\n",
       "      <td>1022</td>\n",
       "      <td>284.87</td>\n",
       "      <td>284.87</td>\n",
       "      <td>0</td>\n",
       "      <td>0.68</td>\n",
       "    </tr>\n",
       "  </tbody>\n",
       "</table>\n",
       "</div>"
      ],
      "text/plain": [
       "        City        Date Country  Latitude  Longitude  Humidity  Pressure  \\\n",
       "0  Carnarvon  1592768314      AU    -24.87     113.63        82      1014   \n",
       "2  Cape Town  1592768314      ZA    -33.93      18.42        93      1023   \n",
       "5    Ahipara  1592768032      NZ    -35.17     173.17        83      1017   \n",
       "7    Ushuaia  1592768104      AR    -54.80     -68.30        88       996   \n",
       "8     Gwanda  1592768315      ZW    -20.93      29.00        42      1022   \n",
       "\n",
       "   Max_Temp  Min_Temp  Cloudiness  Wind Speed  \n",
       "0    288.15    288.15           0        2.60  \n",
       "2    288.71    286.48          75        2.60  \n",
       "5    286.26    286.26           8        4.39  \n",
       "7    277.15    277.15          40        2.10  \n",
       "8    284.87    284.87           0        0.68  "
      ]
     },
     "execution_count": 11,
     "metadata": {},
     "output_type": "execute_result"
    }
   ],
   "source": [
    "# Create South Hemisphere DataFrame\n",
    "south_df = weather_df.loc[weather_df[\"Latitude\"]<0]\n",
    "\n",
    "#Display DataFrame\n",
    "south_df.head()"
   ]
  },
  {
   "cell_type": "markdown",
   "metadata": {},
   "source": [
    "####  Northern Hemisphere - Max Temp vs. Latitude Linear Regression"
   ]
  },
  {
   "cell_type": "code",
   "execution_count": 21,
   "metadata": {},
   "outputs": [
    {
     "name": "stdout",
     "output_type": "stream",
     "text": [
      "R-Sq. = -0.6951604928593036\n"
     ]
    },
    {
     "data": {
      "text/plain": [
       "<function matplotlib.pyplot.show(*args, **kw)>"
      ]
     },
     "execution_count": 21,
     "metadata": {},
     "output_type": "execute_result"
    },
    {
     "data": {
      "image/png": "[encoded data removed]",
      "text/plain": [
       "<Figure size 432x288 with 1 Axes>"
      ]
     },
     "metadata": {
      "needs_background": "light"
     },
     "output_type": "display_data"
    }
   ],
   "source": [
    "#Define x and y values\n",
    "x_values = north_df[\"Latitude\"]\n",
    "y_values = north_df[\"Max_Temp\"]\n",
    "\n",
    "#Configure SciPy\n",
    "(slope, intercept, rvalue, pvalue, stderr) = linregress(x_values, y_values)\n",
    "\n",
    "#Plot formulas\n",
    "regress_values = x_values * slope + intercept\n",
    "line_eq = \"y = \" + str(round(slope,2)) + \"x + \" + str(round(intercept,2))\n",
    "\n",
    "#Configure Plot\n",
    "plt.scatter(x_values,y_values)\n",
    "plt.plot(x_values,regress_values,\"r-\")\n",
    "\n",
    "#Configure Plot Cosmetics\n",
    "plt.xlabel(\"Latitude in North Hemisphere\")\n",
    "plt.ylabel(\"Max Temp in Northern Hemisphere\")\n",
    "plt.annotate(line_eq,(0,280),fontsize = 15,color = \"red\")\n",
    "\n",
    "#Print R Value\n",
    "print(\"R-Sq. = {}\".format(rvalue))\n",
    "\n",
    "#Show plot\n",
    "plt.show"
   ]
  },
  {
   "cell_type": "markdown",
   "metadata": {},
   "source": [
    "####  Southern Hemisphere - Max Temp vs. Latitude Linear Regression"
   ]
  },
  {
   "cell_type": "code",
   "execution_count": 27,
   "metadata": {},
   "outputs": [
    {
     "name": "stdout",
     "output_type": "stream",
     "text": [
      "R-Sq. = 0.8025772047000381\n"
     ]
    },
    {
     "data": {
      "text/plain": [
       "<function matplotlib.pyplot.show(*args, **kw)>"
      ]
     },
     "execution_count": 27,
     "metadata": {},
     "output_type": "execute_result"
    },
    {
     "data": {
      "image/png": "[encoded data removed]",
      "text/plain": [
       "<Figure size 432x288 with 1 Axes>"
      ]
     },
     "metadata": {
      "needs_background": "light"
     },
     "output_type": "display_data"
    }
   ],
   "source": [
    "#Define x and y values\n",
    "x_values = south_df[\"Latitude\"]\n",
    "y_values = south_df[\"Max_Temp\"]\n",
    "\n",
    "#Configure SciPy\n",
    "(slope, intercept, rvalue, pvalue, stderr) = linregress(x_values, y_values)\n",
    "\n",
    "#Plot formulas\n",
    "regress_values = x_values * slope + intercept\n",
    "line_eq = \"y = \" + str(round(slope,2)) + \"x + \" + str(round(intercept,2))\n",
    "\n",
    "#Configure Plot\n",
    "plt.scatter(x_values,y_values)\n",
    "plt.plot(x_values,regress_values,\"r-\")\n",
    "\n",
    "#Configure Plot Cosmetics\n",
    "plt.xlabel(\"Latitude in North Hemisphere\")\n",
    "plt.ylabel(\"Max Temp in Northern Hemisphere\")\n",
    "plt.annotate(line_eq,(0,280),fontsize = 15,color = \"red\")\n",
    "\n",
    "#Print R Value, then display Chart\n",
    "print(\"R-Sq. = {}\".format(rvalue))\n",
    "\n",
    "#Display Chart\n",
    "plt.show"
   ]
  },
  {
   "cell_type": "markdown",
   "metadata": {},
   "source": [
    "####  Northern Hemisphere - Humidity (%) vs. Latitude Linear Regression"
   ]
  },
  {
   "cell_type": "code",
   "execution_count": 30,
   "metadata": {},
   "outputs": [
    {
     "name": "stdout",
     "output_type": "stream",
     "text": [
      "R-Sq. = -0.05485986926748867\n"
     ]
    },
    {
     "data": {
      "text/plain": [
       "<function matplotlib.pyplot.show(*args, **kw)>"
      ]
     },
     "execution_count": 30,
     "metadata": {},
     "output_type": "execute_result"
    },
    {
     "data": {
      "image/png": "[encoded data removed]",
      "text/plain": [
       "<Figure size 432x288 with 1 Axes>"
      ]
     },
     "metadata": {
      "needs_background": "light"
     },
     "output_type": "display_data"
    }
   ],
   "source": [
    "#Define x and y values\n",
    "x_values = north_df[\"Latitude\"]\n",
    "y_values = north_df[\"Humidity\"]\n",
    "\n",
    "#Configure SciPy\n",
    "(slope, intercept, rvalue, pvalue, stderr) = linregress(x_values, y_values)\n",
    "\n",
    "#Plot formulas\n",
    "regress_values = x_values * slope + intercept\n",
    "line_eq = \"y = \" + str(round(slope,2)) + \"x + \" + str(round(intercept,2))\n",
    "\n",
    "#Configure Plot\n",
    "plt.scatter(x_values,y_values)\n",
    "plt.plot(x_values,regress_values,\"r-\")\n",
    "\n",
    "#Configure Plot Cosmetics\n",
    "plt.xlabel(\"Latitude in North Hemisphere\")\n",
    "plt.ylabel(\"Max Temp in Northern Hemisphere\")\n",
    "plt.annotate(line_eq,(0,100),fontsize = 15,color = \"red\")\n",
    "\n",
    "#Print R Value, then display Chart\n",
    "print(\"R-Sq. = {}\".format(rvalue))\n",
    "\n",
    "#Display Chart\n",
    "plt.show"
   ]
  },
  {
   "cell_type": "markdown",
   "metadata": {},
   "source": [
    "####  Southern Hemisphere - Humidity (%) vs. Latitude Linear Regression"
   ]
  },
  {
   "cell_type": "code",
   "execution_count": 29,
   "metadata": {},
   "outputs": [
    {
     "name": "stdout",
     "output_type": "stream",
     "text": [
      "R-Sq. = -0.13028814982360493\n"
     ]
    },
    {
     "data": {
      "text/plain": [
       "<function matplotlib.pyplot.show(*args, **kw)>"
      ]
     },
     "execution_count": 29,
     "metadata": {},
     "output_type": "execute_result"
    },
    {
     "data": {
      "image/png": "[encoded data removed]",
      "text/plain": [
       "<Figure size 432x288 with 1 Axes>"
      ]
     },
     "metadata": {
      "needs_background": "light"
     },
     "output_type": "display_data"
    }
   ],
   "source": [
    "#Define x and y values\n",
    "x_values = south_df[\"Latitude\"]\n",
    "y_values = south_df[\"Humidity\"]\n",
    "\n",
    "#Configure SciPy\n",
    "(slope, intercept, rvalue, pvalue, stderr) = linregress(x_values, y_values)\n",
    "\n",
    "#Plot formulas\n",
    "regress_values = x_values * slope + intercept\n",
    "line_eq = \"y = \" + str(round(slope,2)) + \"x + \" + str(round(intercept,2))\n",
    "\n",
    "#Configure Plot\n",
    "plt.scatter(x_values,y_values)\n",
    "plt.plot(x_values,regress_values,\"r-\")\n",
    "\n",
    "#Configure Plot Cosmetics\n",
    "plt.xlabel(\"Latitude in North Hemisphere\")\n",
    "plt.ylabel(\"Max Temp in Northern Hemisphere\")\n",
    "plt.annotate(line_eq,(0,100),fontsize = 15,color = \"red\")\n",
    "\n",
    "#Print R Value, then display Chart\n",
    "print(\"R-Sq. = {}\".format(rvalue))\n",
    "\n",
    "#Display Chart\n",
    "plt.show"
   ]
  },
  {
   "cell_type": "markdown",
   "metadata": {},
   "source": [
    "####  Northern Hemisphere - Cloudiness (%) vs. Latitude Linear Regression"
   ]
  },
  {
   "cell_type": "code",
   "execution_count": 31,
   "metadata": {},
   "outputs": [
    {
     "name": "stdout",
     "output_type": "stream",
     "text": [
      "R-Sq. = -0.07937323700408355\n"
     ]
    },
    {
     "data": {
      "text/plain": [
       "<function matplotlib.pyplot.show(*args, **kw)>"
      ]
     },
     "execution_count": 31,
     "metadata": {},
     "output_type": "execute_result"
    },
    {
     "data": {
      "image/png": "[encoded data removed]",
      "text/plain": [
       "<Figure size 432x288 with 1 Axes>"
      ]
     },
     "metadata": {
      "needs_background": "light"
     },
     "output_type": "display_data"
    }
   ],
   "source": [
    "#Define x and y values\n",
    "x_values = north_df[\"Latitude\"]\n",
    "y_values = north_df[\"Cloudiness\"]\n",
    "\n",
    "#Configure SciPy\n",
    "(slope, intercept, rvalue, pvalue, stderr) = linregress(x_values, y_values)\n",
    "\n",
    "#Plot formulas\n",
    "regress_values = x_values * slope + intercept\n",
    "line_eq = \"y = \" + str(round(slope,2)) + \"x + \" + str(round(intercept,2))\n",
    "\n",
    "#Configure Plot\n",
    "plt.scatter(x_values,y_values)\n",
    "plt.plot(x_values,regress_values,\"r-\")\n",
    "\n",
    "#Configure Plot Cosmetics\n",
    "plt.xlabel(\"Latitude in North Hemisphere\")\n",
    "plt.ylabel(\"Max Temp in Northern Hemisphere\")\n",
    "plt.annotate(line_eq,(0,100),fontsize = 15,color = \"red\")\n",
    "\n",
    "#Print R Value, then display Chart\n",
    "print(\"R-Sq. = {}\".format(rvalue))\n",
    "\n",
    "#Display Chart\n",
    "plt.show"
   ]
  },
  {
   "cell_type": "markdown",
   "metadata": {},
   "source": [
    "####  Southern Hemisphere - Cloudiness (%) vs. Latitude Linear Regression"
   ]
  },
  {
   "cell_type": "code",
   "execution_count": 32,
   "metadata": {},
   "outputs": [
    {
     "name": "stdout",
     "output_type": "stream",
     "text": [
      "R-Sq. = 0.07960916110607977\n"
     ]
    },
    {
     "data": {
      "text/plain": [
       "<function matplotlib.pyplot.show(*args, **kw)>"
      ]
     },
     "execution_count": 32,
     "metadata": {},
     "output_type": "execute_result"
    },
    {
     "data": {
      "image/png": "[encoded data removed]",
      "text/plain": [
       "<Figure size 432x288 with 1 Axes>"
      ]
     },
     "metadata": {
      "needs_background": "light"
     },
     "output_type": "display_data"
    }
   ],
   "source": [
    "#Define x and y values\n",
    "x_values = south_df[\"Latitude\"]\n",
    "y_values = south_df[\"Cloudiness\"]\n",
    "\n",
    "#Configure SciPy\n",
    "(slope, intercept, rvalue, pvalue, stderr) = linregress(x_values, y_values)\n",
    "\n",
    "#Plot formulas\n",
    "regress_values = x_values * slope + intercept\n",
    "line_eq = \"y = \" + str(round(slope,2)) + \"x + \" + str(round(intercept,2))\n",
    "\n",
    "#Configure Plot\n",
    "plt.scatter(x_values,y_values)\n",
    "plt.plot(x_values,regress_values,\"r-\")\n",
    "\n",
    "#Configure Plot Cosmetics\n",
    "plt.xlabel(\"Latitude in North Hemisphere\")\n",
    "plt.ylabel(\"Max Temp in Northern Hemisphere\")\n",
    "plt.annotate(line_eq,(0,100),fontsize = 15,color = \"red\")\n",
    "\n",
    "#Print R Value, then display Chart\n",
    "print(\"R-Sq. = {}\".format(rvalue))\n",
    "\n",
    "#Display Chart\n",
    "plt.show"
   ]
  },
  {
   "cell_type": "markdown",
   "metadata": {},
   "source": [
    "####  Northern Hemisphere - Wind Speed (mph) vs. Latitude Linear Regression"
   ]
  },
  {
   "cell_type": "code",
   "execution_count": 41,
   "metadata": {},
   "outputs": [
    {
     "name": "stdout",
     "output_type": "stream",
     "text": [
      "R-Sq. = -0.05781380997386522\n"
     ]
    },
    {
     "data": {
      "text/plain": [
       "<function matplotlib.pyplot.show(*args, **kw)>"
      ]
     },
     "execution_count": 41,
     "metadata": {},
     "output_type": "execute_result"
    },
    {
     "data": {
      "image/png": "[encoded data removed]",
      "text/plain": [
       "<Figure size 432x288 with 1 Axes>"
      ]
     },
     "metadata": {
      "needs_background": "light"
     },
     "output_type": "display_data"
    }
   ],
   "source": [
    "#Define x and y values\n",
    "x_values = north_df[\"Latitude\"]\n",
    "y_values = north_df[\"Wind Speed\"]\n",
    "\n",
    "#Configure SciPy\n",
    "(slope, intercept, rvalue, pvalue, stderr) = linregress(x_values, y_values)\n",
    "\n",
    "#Plot formulas\n",
    "regress_values = x_values * slope + intercept\n",
    "line_eq = \"y = \" + str(round(slope,2)) + \"x + \" + str(round(intercept,2))\n",
    "\n",
    "#Configure Plot\n",
    "plt.scatter(x_values,y_values)\n",
    "plt.plot(x_values,regress_values,\"r-\")\n",
    "\n",
    "#Configure Plot Cosmetics\n",
    "plt.xlabel(\"Latitude in North Hemisphere\")\n",
    "plt.ylabel(\"Max Temp in Northern Hemisphere\")\n",
    "plt.annotate(line_eq,(0,10),fontsize = 15,color = \"red\")\n",
    "\n",
    "#Print R Value, then display Chart\n",
    "print(\"R-Sq. = {}\".format(rvalue))\n",
    "\n",
    "#Display Chart\n",
    "plt.show"
   ]
  },
  {
   "cell_type": "markdown",
   "metadata": {},
   "source": [
    "####  Southern Hemisphere - Wind Speed (mph) vs. Latitude Linear Regression"
   ]
  },
  {
   "cell_type": "code",
   "execution_count": 40,
   "metadata": {},
   "outputs": [
    {
     "name": "stdout",
     "output_type": "stream",
     "text": [
      "R-Sq. = 0.03690983213242813\n"
     ]
    },
    {
     "data": {
      "text/plain": [
       "<function matplotlib.pyplot.show(*args, **kw)>"
      ]
     },
     "execution_count": 40,
     "metadata": {},
     "output_type": "execute_result"
    },
    {
     "data": {
      "image/png": "[encoded data removed]",
      "text/plain": [
       "<Figure size 432x288 with 1 Axes>"
      ]
     },
     "metadata": {
      "needs_background": "light"
     },
     "output_type": "display_data"
    }
   ],
   "source": [
    "#Define x and y values\n",
    "x_values = south_df[\"Latitude\"]\n",
    "y_values = south_df[\"Wind Speed\"]\n",
    "\n",
    "#Configure SciPy\n",
    "(slope, intercept, rvalue, pvalue, stderr) = linregress(x_values, y_values)\n",
    "\n",
    "#Plot formulas\n",
    "regress_values = x_values * slope + intercept\n",
    "line_eq = \"y = \" + str(round(slope,2)) + \"x + \" + str(round(intercept,2))\n",
    "\n",
    "#Configure Plot\n",
    "plt.scatter(x_values,y_values)\n",
    "plt.plot(x_values,regress_values,\"r-\")\n",
    "\n",
    "#Configure Plot Cosmetics\n",
    "plt.xlabel(\"Latitude in North Hemisphere\")\n",
    "plt.ylabel(\"Max Temp in Northern Hemisphere\")\n",
    "plt.annotate(line_eq,(0,10),fontsize = 15,color = \"red\")\n",
    "\n",
    "#Print R Value, then display Chart\n",
    "print(\"R-Sq. = {}\".format(rvalue))\n",
    "\n",
    "#Display Chart\n",
    "plt.show"
   ]
  }
 ],
 "metadata": {
  "anaconda-cloud": {},
  "kernel_info": {
   "name": "python3"
  },
  "kernelspec": {
   "display_name": "Python 3",
   "language": "python",
   "name": "python3"
  },
  "language_info": {
   "codemirror_mode": {
    "name": "ipython",
    "version": 3
   },
   "file_extension": ".py",
   "mimetype": "text/x-python",
   "name": "python",
   "nbconvert_exporter": "python",
   "pygments_lexer": "ipython3",
   "version": "3.7.6"
  },
  "latex_envs": {
   "LaTeX_envs_menu_present": true,
   "autoclose": false,
   "autocomplete": true,
   "bibliofile": "biblio.bib",
   "cite_by": "apalike",
   "current_citInitial": 1,
   "eqLabelWithNumbers": true,
   "eqNumInitial": 1,
   "hotkeys": {
    "equation": "Ctrl-E",
    "itemize": "Ctrl-I"
   },
   "labels_anchors": false,
   "latex_user_defs": false,
   "report_style_numbering": false,
   "user_envs_cfg": false
  },
  "nteract": {
   "version": "0.12.3"
  }
 },
 "nbformat": 4,
 "nbformat_minor": 2
}
